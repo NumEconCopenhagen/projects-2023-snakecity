{
 "cells": [
  {
   "attachments": {},
   "cell_type": "markdown",
   "metadata": {},
   "source": [
    "# Model Project: The general Solow model with land\n",
    "**Introduction to Programming and Numerical Analysis**"
   ]
  },
  {
   "attachments": {},
   "cell_type": "markdown",
   "metadata": {},
   "source": [
    "In this project, the general Solow model with land is solved analytically and simulated. Then, the model is extended with finite natural resources."
   ]
  },
  {
   "attachments": {},
   "cell_type": "markdown",
   "metadata": {},
   "source": [
    "Imports and set magics:"
   ]
  },
  {
   "cell_type": "code",
   "execution_count": null,
   "metadata": {},
   "outputs": [],
   "source": [
    "import numpy as np\n",
    "from scipy import optimize\n",
    "import sympy as sm\n",
    "import matplotlib.pyplot as plt\n",
    "\n",
    "# autoreload modules when code is run\n",
    "%load_ext autoreload\n",
    "%autoreload 2\n",
    "\n",
    "# local modules\n",
    "# import modelproject"
   ]
  },
  {
   "attachments": {},
   "cell_type": "markdown",
   "metadata": {},
   "source": [
    "**Table of contents**<a id='toc0_'></a>    \n",
    "- 1. [Model](#toc1_)    \n",
    "- 2. [Analytical solution](#toc2_)    \n",
    "- 3. [Numerical solution](#toc3_)    \n",
    "- 4. [Further analysis](#toc4_)    \n",
    "- 5. [Model extension](#toc5_)\n",
    "- 6. [Conclusion](#toc6_)    \n",
    "\n",
    "<!-- vscode-jupyter-toc-config\n",
    "\tnumbering=true\n",
    "\tanchor=true\n",
    "\tflat=false\n",
    "\tminLevel=2\n",
    "\tmaxLevel=6\n",
    "\t/vscode-jupyter-toc-config -->\n",
    "<!-- THIS CELL WILL BE REPLACED ON TOC UPDATE. DO NOT WRITE YOUR TEXT IN THIS CELL -->"
   ]
  },
  {
   "attachments": {},
   "cell_type": "markdown",
   "metadata": {},
   "source": [
    "## 1. <a id='toc1_'></a>[Model](#toc0_)"
   ]
  },
  {
   "attachments": {},
   "cell_type": "markdown",
   "metadata": {},
   "source": [
    "The **Solow growth model** is a macroeconomic model constructed to explain the long-run growth of an economy through dynamics concerning population growth, capital accumulation and technological innovation. \n",
    "\n",
    "The **general Solow growth model with land** includes land as a fixed resource. This model abstracts from human capital, which would sligthly complicate the analysis without notably changing the conclusions. It is worth noting that the model does not specify any microfoundations for households. Therefore, parameters such as the savings rate are taken as exogenously given.\n",
    "\n",
    "The model is set up in **discrete time** rather than continuous time. The notation in this project follows chapter 5 in Sørensen, P. and Whitta-Jacobsen, H. J. (2010), *Introducing Advanced Macroeconomics*."
   ]
  },
  {
   "attachments": {},
   "cell_type": "markdown",
   "metadata": {},
   "source": [
    "The production function is a standard Cobb-Douglas production function with *Harrod neutral* technology defined as\n",
    "$$\n",
    "Y_t = K_t^{\\alpha}(A_tL_t)^{\\beta}X^{\\kappa},\n",
    "$$\n",
    "where $\\alpha, \\beta, \\kappa > 0$ and $\\alpha + \\beta + \\kappa = 1$. \n",
    "\n",
    "$Y_t$ is output in period $t$. <br>\n",
    "$K_t$ is the capital stock in period $t$. <br>\n",
    "$A_t$ is the level of technology in period $t$. <br>\n",
    "$X$ is the fixed amount (area) of land. <br>\n",
    "\n",
    "The capital stock accumulates by\n",
    "$$\n",
    "K_{t+1} = sY_t + (1-\\delta)K_t,\n",
    "$$\n",
    "where $0<s<1$ is the exogenous savings rate (so savings are $S_t=sY_t$) and $0 < \\delta < 1$ is the rate at which capital depreciates. $K_0$ is given.\n",
    "\n",
    "The labor force evolves as\n",
    "$$\n",
    "L_{t+1} = (1+n) L_t,\n",
    "$$\n",
    "where $n>-1$ is the exogenous population growth rate. $L_0$ is given.\n",
    "\n",
    "The level of technology evolves as\n",
    "$$\n",
    "A_{t+1} = (1+g) A_t,\n",
    "$$\n",
    "where $g$ is the exogenous technology growth rate. $A_0$ is given."
   ]
  },
  {
   "attachments": {},
   "cell_type": "markdown",
   "metadata": {},
   "source": [
    "Now, define the capital-output ratio\n",
    "$$\n",
    "z_t \\equiv \\frac{K_t}{Y_t},\n",
    "$$\n",
    "which will be useful for solving the model. Substitute for $Y_{t+1}$ in $z_{t+1}$\n",
    "$$\n",
    "z_{t+1} = \\frac{K_{t+1}}{Y_{t+1}} = \\frac{K_{t+1}}{K_{t+1}^{\\alpha}(A_{t+1}L_{t+1})^{\\beta}X^{\\kappa}} = \\frac{K_{t+1}^{1-\\alpha}}{(A_{t+1}L_{t+1})^{\\beta}X^{\\kappa}}\n",
    "$$\n",
    "Insert for $K_{t+1}$:\n",
    "$$\n",
    "z_{t+1} = \\frac{(sY_t + (1-\\delta)K_t)^{1-\\alpha}}{(A_{t+1}L_{t+1})^{\\beta}X^{\\kappa}} = \\frac{(s + (1-\\delta)z_t)^{1-\\alpha}}{(A_{t+1}L_{t+1})^{\\beta}X^{\\kappa}}Y_{t}^{1-\\alpha}\n",
    "$$\n",
    "Substitute for $A_{t+1}$ and $L_{t+1}$:\n",
    "$$\n",
    "\\begin{align*}\n",
    "z_{t+1} &= \\frac{(s + (1-\\delta)z_t)^{1-\\alpha}}{((1+g) A_t (1+n) L_t)^{\\beta}X^{\\kappa}}Y_t^{1-\\alpha}\\\\\n",
    "&= \\frac{(s + (1-\\delta)z_t)^{1-\\alpha}}{[(1+g)(1+n)]^{\\beta}}\\frac{Y_t^{1-\\alpha}}{(A_{t}L_{t})^{\\beta}X^{\\kappa}}\\\\\n",
    "&=\\frac{(s + (1-\\delta)z_t)^{1-\\alpha}}{[(1+g)(1+n)]^{\\beta}}\\frac{Y_t^{1-\\alpha}}{(A_{t}L_{t})^{\\beta}X^{\\kappa}}\\frac{K_t^{\\alpha}}{K_t^{\\alpha}}\\\\\n",
    "&=\\frac{(s + (1-\\delta)z_t)^{1-\\alpha}}{[(1+g)(1+n)]^{\\beta}}Y^{-\\alpha}K^{\\alpha}\\\\\n",
    "&=\\frac{(s + (1-\\delta)z_t)^{1-\\alpha}}{[(1+g)(1+n)]^{\\beta}}z_t^{\\alpha}\\\\\n",
    "\\end{align*}\n",
    "$$\n",
    "Rearrange as \n",
    "$$\n",
    "\\begin{equation}\n",
    "z_{t+1} =\\frac{1}{[(1+g)(1+n)]^{\\beta}}[s + (1-\\delta)z_t]^{1-\\alpha}z_t^{\\alpha}\\\\\n",
    "\\end{equation}\n",
    "$$\n",
    "In steady state, $z_{t+1}=z_t=z^*$:\n",
    "$$\n",
    "z^* =\\frac{1}{[(1+g)(1+n)]^{\\beta}}[s + (1-\\delta)z^*]^{1-\\alpha}\\left(z^*\\right)^{\\alpha}\\\\\n",
    "$$"
   ]
  },
  {
   "attachments": {},
   "cell_type": "markdown",
   "metadata": {},
   "source": [
    "## 2. <a id='toc2_'></a>[Analytical solution](#toc0_)"
   ]
  },
  {
   "attachments": {},
   "cell_type": "markdown",
   "metadata": {},
   "source": [
    "The package `sympy` is used to do symbolic math and derive the analytical solution to the model. First, the symbols of the model's variables and parameters are defined."
   ]
  },
  {
   "cell_type": "code",
   "execution_count": null,
   "metadata": {},
   "outputs": [],
   "source": [
    "# define symbols\n",
    "z = sm.symbols('z')\n",
    "alpha = sm.symbols('alpha')\n",
    "beta = sm.symbols('beta')\n",
    "kappa = sm.symbols('kappa')\n",
    "s = sm.symbols('s')\n",
    "delta = sm.symbols('delta')\n",
    "n = sm.symbols('n')\n",
    "g = sm.symbols('g')"
   ]
  },
  {
   "attachments": {},
   "cell_type": "markdown",
   "metadata": {},
   "source": [
    "The steady state solution $z^*$ is found. However, it seems SymPy is having trouble solving for $z^*$ in (1). "
   ]
  },
  {
   "cell_type": "code",
   "execution_count": null,
   "metadata": {},
   "outputs": [],
   "source": [
    "ss = sm.Eq(z,(((s+(1-delta)*z)**(1-alpha) * z**(alpha))/(((1+g)*(1+n))**(beta)))) # define equation (1)\n",
    "display(ss)\n",
    "# attempt to solve using sm.solve\n",
    "try:\n",
    "    z_ss = sm.solve(ss,z)[0]\n",
    "except:\n",
    "    print('SymPy could not find a solution.')"
   ]
  },
  {
   "attachments": {},
   "cell_type": "markdown",
   "metadata": {},
   "source": [
    "It is speculated that SymPy has issues with too many exponents when variables/parameters are not explicitly bounded. (1) is simplied a bit to help SymPy:\n",
    "$$\n",
    "\\begin{align*}\n",
    "z^* &=\\frac{1}{[(1+g)(1+n)]^{\\beta}}[s + (1-\\delta)z^*]^{1-\\alpha}\\left(z^*\\right)^{\\alpha}\\\\\n",
    "1 &=\\frac{1}{[(1+g)(1+n)]^{\\beta}}[s + (1-\\delta)z^*]^{1-\\alpha}\\left(z^*\\right)^{\\alpha-1}\\\\\n",
    "1 &=\\frac{1}{[(1+g)(1+n)]^{\\beta}}[s + (1-\\delta)z^*]^{1-\\alpha}\\left(z^*\\right)^{-(1-\\alpha)}\\\\\n",
    "1 &=\\frac{1}{[(1+g)(1+n)]^{\\beta}}\\left[\\frac{s}{z^*} + (1-\\delta)\\right]^{1-\\alpha}\\\\\n",
    "1 &=\\left(\\frac{1}{[(1+g)(1+n)]^{\\beta}}\\right)^{\\frac{1}{1-\\alpha}}\\left[\\frac{s}{z^*} + (1-\\delta)\\right]\\\\\n",
    "\\end{align*}\n",
    "$$\n"
   ]
  },
  {
   "attachments": {},
   "cell_type": "markdown",
   "metadata": {},
   "source": [
    "Using this, SymPy now finds a solution for $z^*$:"
   ]
  },
  {
   "cell_type": "code",
   "execution_count": null,
   "metadata": {},
   "outputs": [],
   "source": [
    "ss = sm.Eq(1,((1/((1+g)*(1+n))**(beta))**(1/(1-alpha))*(s/z+(1-delta)))) # define the simplified steady state equation above\n",
    "z_ss = sm.solve(ss,z)[0] # solve for z^*\n",
    "\n",
    "# display the solution\n",
    "display(z_ss)"
   ]
  },
  {
   "attachments": {},
   "cell_type": "markdown",
   "metadata": {},
   "source": [
    "The solution is turned into a Python function using `sm.lambdify`."
   ]
  },
  {
   "cell_type": "code",
   "execution_count": null,
   "metadata": {},
   "outputs": [],
   "source": [
    "ss_func=sm.lambdify(args = (s,g,n,delta,alpha,beta), expr = z_ss) # turn the symbolic solution into a function\n",
    "\n",
    "# print type of ss_func\n",
    "print(f'ss_func is of the type: {type(ss_func)}.')"
   ]
  },
  {
   "attachments": {},
   "cell_type": "markdown",
   "metadata": {},
   "source": [
    "## 3. <a id='toc3_'></a>[Numerical solution](#toc0_)"
   ]
  },
  {
   "attachments": {},
   "cell_type": "markdown",
   "metadata": {},
   "source": [
    "Now, the steady value of $z$ is found numerically using `optimize.root_scalar` and specifically the 'brentq' method, which is very efficient for finding the root of a function in a bracketing interval."
   ]
  },
  {
   "cell_type": "code",
   "execution_count": null,
   "metadata": {},
   "outputs": [],
   "source": [
    "# set plausible values of the parameters\n",
    "alpha = 0.3\n",
    "beta = 0.6\n",
    "kappa = 1 - alpha - beta\n",
    "s = 0.2\n",
    "delta = 0.05\n",
    "n = 0.015\n",
    "g = 0.02\n",
    "\n",
    "# find steady state value of z using numerical optimization\n",
    "obj = lambda z_star: z_star - (((s+(1-delta)*z_star)**(1-alpha) * z_star**(alpha))/((1+g)*(1+n))**(beta))\n",
    "result = optimize.root_scalar(obj,bracket=[0.1,100],method='brentq', options={'disp':True})\n",
    "z_star = result.root # store the solution in a variable\n",
    "print(result) \n",
    "print(f'\\n The steady state for z is z*={z_star:.3f}')  "
   ]
  },
  {
   "attachments": {},
   "cell_type": "markdown",
   "metadata": {},
   "source": [
    "The optimization converged without problems (and does so for all allowed parameter values)."
   ]
  },
  {
   "attachments": {},
   "cell_type": "markdown",
   "metadata": {},
   "source": [
    "Next, the model is simulated:"
   ]
  },
  {
   "cell_type": "code",
   "execution_count": null,
   "metadata": {},
   "outputs": [],
   "source": [
    "# 1. Define the production function \n",
    "def production(K, L, A, X, alpha=alpha, beta=beta, kappa=kappa):\n",
    "    return K**alpha * (A * L)**beta * X**kappa\n",
    "\n",
    "# 2. Define the initial values of the variables\n",
    "X = 1\n",
    "K0 = 1\n",
    "L0 = 1\n",
    "A0 = 1\n",
    "Y0 = production(K0, L0, A0, X)\n",
    "z0 = K0 / Y0\n",
    "\n",
    "# 3. Define a function to update the variables in each period\n",
    "def update(K, L, A, X, alpha, beta, kappa, s, delta, n, g):\n",
    "    Y = production(K, L, A, X, alpha, beta, kappa)\n",
    "    K_new = s * Y + (1 - delta) * K\n",
    "    L_new = (1 + n) * L\n",
    "    A_new = (1 + g) * A\n",
    "    Y_new = production(K_new, L_new, A_new, X, alpha, beta, kappa)\n",
    "    return Y_new, K_new, L_new, A_new\n",
    "\n",
    "# 4. Run a loop to simulate the model\n",
    "T = 200 # iterations\n",
    "K = np.empty(T) # initialize empty list\n",
    "L = np.empty(T)\n",
    "A = np.empty(T)\n",
    "Y = np.empty(T)\n",
    "z = np.empty(T)\n",
    "\n",
    "K[0] = K0 # set first element of list to initial value\n",
    "L[0] = L0\n",
    "A[0] = A0\n",
    "Y[0] = Y0\n",
    "z[0] = z0\n",
    "\n",
    "for t in range(1, T):\n",
    "    Y[t], K[t], L[t], A[t] = update(K[t-1], L[t-1], A[t-1], X, alpha, beta, kappa, s, delta, n, g)\n",
    "    z[t] = K[t] / Y[t]"
   ]
  },
  {
   "cell_type": "code",
   "execution_count": null,
   "metadata": {},
   "outputs": [],
   "source": [
    "# print first few iterations of simulation\n",
    "for i in [0, 1, 2, 3, 4]:\n",
    "    print(f'{i}  {Y[i]:.3f}  {K[i]:.3f}  {L[i]:.3f}  {A[i]:.3f}')"
   ]
  },
  {
   "attachments": {},
   "cell_type": "markdown",
   "metadata": {},
   "source": [
    "Next, the simulation results for the model variables are plotted."
   ]
  },
  {
   "cell_type": "code",
   "execution_count": null,
   "metadata": {},
   "outputs": [],
   "source": [
    "# plot the simulation results\n",
    "# create subplots\n",
    "fig, axs = plt.subplots(2, 2, figsize=(12, 8))\n",
    "\n",
    "# plot labor force in the first plot\n",
    "axs[0, 0].plot(range(T), L)\n",
    "axs[0, 0].set_title('$L_t$')\n",
    "axs[0, 0].set_xlabel('$t$')\n",
    "\n",
    "# plot technology in the second plot\n",
    "axs[0, 1].plot(range(T), A)\n",
    "axs[0, 1].set_title('$A_t$')\n",
    "axs[0, 1].set_xlabel('$t$')\n",
    "\n",
    "# plot capital and output in the third plot\n",
    "axs[1, 0].plot(range(T), K, label='$K_t$')\n",
    "axs[1, 0].plot(range(T), Y, label='$Y_t$')\n",
    "axs[1, 0].set_title('$K_t$ and $Y_t$')\n",
    "axs[1, 0].set_xlabel('$t$')\n",
    "axs[1, 0].legend()\n",
    "\n",
    "# plot capital per worker and output per worker in the fourth plot\n",
    "axs[1, 1].plot(range(T), np.log(K/L), label='$\\ln(K_t/L_t)$')\n",
    "axs[1, 1].plot(range(T), np.log(Y/L), label='$\\ln(Y_t/L_t)$')\n",
    "axs[1, 1].set_title('$\\ln(K_t/L_t)$ and $\\ln(Y_t/L_t)$')\n",
    "axs[1, 1].set_xlabel('$t$')\n",
    "axs[1, 1].legend()\n",
    "\n",
    "# adjust spacing between subplots\n",
    "plt.subplots_adjust(left=0.1, bottom=0.1, right=0.9, top=0.9, wspace=0.4, hspace=0.4)\n",
    "\n",
    "# show plots\n",
    "plt.show()"
   ]
  },
  {
   "attachments": {},
   "cell_type": "markdown",
   "metadata": {},
   "source": [
    "The plots show that the growth in capital per worker and output per converges to a steady state growth rate (the graphs in log-levels converge asymptotically to a line with slope equal to the steady state growth rate). This steady growth rate can easily be derived analytically, but that is not within the scope of this project. Similarly, it can be shown that the inclusion of land as a fixed resource in the production function implies a growth drag, since the amount of land per worker declines as the population increases.\n",
    "\n",
    "Next, the capital-output ratio $z_t$ and its steady state value $z^*$ is plotted:"
   ]
  },
  {
   "cell_type": "code",
   "execution_count": null,
   "metadata": {},
   "outputs": [],
   "source": [
    "# plot capital-output ratio z\n",
    "plt.plot(range(T), z, label='$z_t$',  c='green') # plot z_t\n",
    "plt.plot(range(T), np.repeat(z_star,T), label='$z^*$', linestyle='dashed', c='green') # plot z^* as dashed line\n",
    "plt.title('$z_t$') # plot title\n",
    "plt.xlabel('$t$') # x-axis label\n",
    "plt.legend() # show legend\n",
    "\n",
    "# show plot\n",
    "plt.show()"
   ]
  },
  {
   "attachments": {},
   "cell_type": "markdown",
   "metadata": {},
   "source": [
    "The plot shows that z converges asymptotically towards its steady state level $z^*$."
   ]
  },
  {
   "attachments": {},
   "cell_type": "markdown",
   "metadata": {},
   "source": [
    "## 4. <a id='toc4_'></a>[Further analysis](#toc0_)"
   ]
  },
  {
   "attachments": {},
   "cell_type": "markdown",
   "metadata": {},
   "source": [
    "In this section, the value of the savings rate $s$ is varied. The effect on the model is illustrated visually.\n",
    "\n",
    "The code plots the simulation of $z$ for each value of $s$ using a loop, making the graph color darker for each iteration."
   ]
  },
  {
   "cell_type": "code",
   "execution_count": null,
   "metadata": {},
   "outputs": [],
   "source": [
    "# list of s values\n",
    "s_list = [0.2, 0.4, 0.6, 0.8]\n",
    "\n",
    "# create the figure\n",
    "fig = plt.figure()\n",
    "ax = fig.add_subplot(1,1,1)\n",
    "\n",
    "# make plot loop\n",
    "for i in s_list:\n",
    "\n",
    "    # update s\n",
    "    s = i\n",
    "\n",
    "    # compute and print steady state\n",
    "    steady = ss_func(s,g,n,delta,alpha,beta)\n",
    "    print(f'For s={i}, the steady state value of z is z*={steady:.3f}')\n",
    "\n",
    "    K[0] = K0 # set first element of list to initial value\n",
    "    L[0] = L0\n",
    "    A[0] = A0\n",
    "    Y[0] = Y0\n",
    "    z[0] = z0\n",
    "\n",
    "    for t in range(1, T):\n",
    "        Y[t], K[t], L[t], A[t] = update(K[t-1], L[t-1], A[t-1], X, alpha, beta, kappa, s, delta, n, g)\n",
    "        z[t] = K[t] / Y[t]\n",
    "\n",
    "    ax.plot(range(T),z,label='$s=$'+str(s),c=(0.,1-i,0.)) # c is the color, the argument is the color in rgb format (in percentages of 255)\n",
    "    \n",
    "ax.legend(loc='upper left',prop={'size':9}); # Activate legend (uses the labels in ax.plot())\n",
    "ax.set_xlabel('$t$')\n",
    "plt.title('$z_t$ for varying values of $s$') # plot title\n",
    "\n",
    "# show plot\n",
    "plt.show()"
   ]
  },
  {
   "attachments": {},
   "cell_type": "markdown",
   "metadata": {},
   "source": [
    "The plot shows that as the savings rate $s$ increases, the steady state value of the capital-output ratio $z^*$ increases. This makes sense intuitively: as the savings rate increases, a larger share of output is saved rather than consumed, meaning that capital accumulation is larger, also in steady state."
   ]
  },
  {
   "attachments": {},
   "cell_type": "markdown",
   "metadata": {},
   "source": [
    "## 5. <a id='toc5_'></a>[Model extension](#toc0_)\n",
    "The model is now extended to include an exhaustible natural resource, such as oil.\n",
    "\n",
    "The production function is now \n",
    "$$\n",
    "Y_t = K_t^{\\alpha}(A_tL_t)^{\\beta}X^{\\kappa}E_t^{\\varepsilon},\n",
    "$$\n",
    "where $\\alpha, \\beta, \\kappa, \\varepsilon > 0$ and $\\alpha + \\beta + \\kappa + \\varepsilon = 1$. \n",
    "\n",
    "The stock of oil $R_t$ is depleted when used in production $E_t$, with depletion defined as \n",
    "$$\n",
    "R_{t+1} = R_t - E_t.\n",
    "$$\n",
    "It is assumed than in each period, a constant fraction $s_E$ (the extraction rate) of the remaining stock of oil is used in production,\n",
    "$$\n",
    "E_t = s_E R_t,\n",
    "$$\n",
    "where $0<s_E<1$.\n",
    "\n",
    "The rest of the model equations regarding population, technology and capital accumulation are defined as before. \n",
    "\n",
    "It can be shown that the steady state value of $z_t$ in this model is\n",
    "$$\n",
    "z^* = \\frac{1}{((1+n)(1+g))^{\\frac{\\beta}{\\beta+\\kappa+\\varepsilon}}(1-s_E)^{\\frac{\\varepsilon}{\\beta+\\kappa+\\varepsilon}}-(1-\\delta)}s\n",
    "$$\n",
    "The model is now solved numerically:"
   ]
  },
  {
   "cell_type": "code",
   "execution_count": null,
   "metadata": {},
   "outputs": [],
   "source": [
    "# set plausible values of the parameters (except for s_E, which is set so that illustrations are interesting)\n",
    "alpha = 0.3\n",
    "beta = 0.5\n",
    "kappa = 0.1\n",
    "epsilon = 1 - alpha - beta - kappa\n",
    "s = 0.2\n",
    "s_E = 0.05\n",
    "\n",
    "# find steady state value of z using numerical optimization\n",
    "obj = lambda z_star: z_star-(1/(((1+n)*(1+g))**(beta/(beta+kappa+epsilon))*(1-s_E)**(epsilon/(beta+kappa+epsilon))-(1-delta))*s)\n",
    "result = optimize.root_scalar(obj,bracket=[0.01,200],method='brentq', options={'disp':True})\n",
    "z_star = result.root # store the solution in a variable\n",
    "print(result) \n",
    "print(f'\\n The steady state for z is z*={z_star:.3f}')  "
   ]
  },
  {
   "attachments": {},
   "cell_type": "markdown",
   "metadata": {},
   "source": [
    "The optimization converged. However, too high values of $s_E$ can cause problems for the convergence.\n",
    "\n",
    "Next, the model is simulated as before."
   ]
  },
  {
   "cell_type": "code",
   "execution_count": null,
   "metadata": {},
   "outputs": [],
   "source": [
    "# 1. Define the production function \n",
    "def production(K, L, A, X, E, alpha=alpha, beta=beta, kappa=kappa, epsilon=epsilon):\n",
    "    return K**alpha * (A * L)**beta * X**kappa * E**epsilon\n",
    "\n",
    "# 2. Define the initial values of the variables\n",
    "X = 1\n",
    "R0 = 1\n",
    "E0 = R0*s_E\n",
    "Y0 = production(K0, L0, A0, X, E0)\n",
    "z0 = K0 / Y0\n",
    "\n",
    "# 3. Define update function\n",
    "def update(K, L, A, X, E, alpha, beta, kappa, epsilon, s, delta, n, g):\n",
    "    Y = production(K, L, A, X, E, alpha, beta, kappa, epsilon)\n",
    "    R = E / s_E\n",
    "    K_new = s * Y + (1 - delta) * K\n",
    "    L_new = (1 + n) * L\n",
    "    A_new = (1 + g) * A\n",
    "    R_new = R - E\n",
    "    E_new = R_new * s_E\n",
    "    Y_new = production(K_new, L_new, A_new, X, E_new, alpha, beta, kappa, epsilon)\n",
    "    return Y_new, K_new, L_new, A_new, E_new, R_new\n",
    "\n",
    "# 4. Run a loop to simulate the model\n",
    "T = 200 # iterations\n",
    "K = np.empty(T) # initialize empty list\n",
    "L = np.empty(T)\n",
    "A = np.empty(T)\n",
    "Y = np.empty(T)\n",
    "R = np.empty(T)\n",
    "E = np.empty(T)\n",
    "z = np.empty(T)\n",
    "\n",
    "K[0] = K0 # set first element of list to initial value\n",
    "L[0] = L0\n",
    "A[0] = A0\n",
    "Y[0] = Y0\n",
    "R[0] = R0\n",
    "E[0] = E0\n",
    "z[0] = z0\n",
    "\n",
    "for t in range(1, T):\n",
    "    Y[t], K[t], L[t], A[t], E[t], R[t] = update(K[t-1], L[t-1], A[t-1], X, E[t-1], alpha, beta, kappa, epsilon, s, delta, n, g)\n",
    "    z[t] = K[t] / Y[t]"
   ]
  },
  {
   "cell_type": "code",
   "execution_count": null,
   "metadata": {},
   "outputs": [],
   "source": [
    "# plot the simulation results\n",
    "# create subplots\n",
    "fig, axs = plt.subplots(2, 2, figsize=(12, 8))\n",
    "\n",
    "# plot stock of oil in the first plot\n",
    "axs[0, 0].plot(range(T), R, c='grey')\n",
    "axs[0, 0].set_title('$R_t$')\n",
    "axs[0, 0].set_xlabel('$t$')\n",
    "\n",
    "# plot usage of oil in production in the second plot\n",
    "axs[0, 1].plot(range(T), E, c='black')\n",
    "axs[0, 1].set_title('$E_t$')\n",
    "axs[0, 1].set_xlabel('$t$')\n",
    "\n",
    "# plot capital per worker and output per worker in the third plot\n",
    "axs[1, 0].plot(range(T), np.log(K/L), label='$\\ln(K/L)$')\n",
    "axs[1, 0].plot(range(T), np.log(Y/L), label='$\\ln(Y/L)$')\n",
    "axs[1, 0].set_title('$\\ln(K/L)$ and $\\ln(Y/L)$')\n",
    "axs[1, 0].set_xlabel('$t$')\n",
    "axs[1, 0].legend()\n",
    "\n",
    "# plot capital-output ratio z in fourth plot\n",
    "plt.plot(range(T), z, label='$z_t$',  c='green') # plot z_t\n",
    "plt.plot(range(T), np.repeat(z_star,T), label='$z^*$', linestyle='dashed', c='green') # plot z^* as dashed line\n",
    "plt.title('$z_t$') # plot title\n",
    "plt.xlabel('$t$') # x-axis label\n",
    "plt.legend() # show legend\n",
    "\n",
    "# adjust spacing between subplots\n",
    "plt.subplots_adjust(left=0.1, bottom=0.1, right=0.9, top=0.9, wspace=0.4, hspace=0.4)\n",
    "\n",
    "# show plots\n",
    "plt.show()"
   ]
  },
  {
   "attachments": {},
   "cell_type": "markdown",
   "metadata": {},
   "source": [
    "The stock of oil $R_t$ depletes exponentially, and so does the amount of oil used in production $E_t$. Otherwise, as shown by the plots, conclusions are similar to before. Output per worker converges on a steady state growth path and $z_t$ converges to a steady state level $z^*$. It can be shown that the inclusion of an exhaustible resource like oil in addition to land adds further drag on the growth rate."
   ]
  },
  {
   "attachments": {},
   "cell_type": "markdown",
   "metadata": {},
   "source": [
    "\n",
    "**More ideas for an extended project:** In the first model with only land, instead of varying the paramater $s$, one could vary the parameter $\\kappa$, which controls land's income share. In the second model, it would be interesting to vary the depletion rate $s_E$. Interestingly, as $s_E$ increases, the steady value of $z_t$ increases, but the steady state growth rate in output per worker **decreases**! This is so, because in the short-run, a higher $s_E$ increases productivity, but in the long run, it falls!\n",
    "\n",
    "One could further extend this project by including the firms' profit maximization problem, which is a part of the original model. Other ideas could be to make explicit microfoundations for the households' choices, include human capital, use a CES production function instead of a Cobb-Douglas or perhaps look at an endogenous growth model. Using a CES production function would have implications on the elasticity of substitution between production factors."
   ]
  },
  {
   "attachments": {},
   "cell_type": "markdown",
   "metadata": {},
   "source": [
    "## 6. <a id='toc6_'></a>[Conclusion](#toc0_)"
   ]
  },
  {
   "attachments": {},
   "cell_type": "markdown",
   "metadata": {},
   "source": [
    "When the fixed resource land is included in the Solow model, there is still growth in output per worker and capital per worker, albeit with a growth drag. In this specification, the model is solved using the capital-output ratio, which converges to a steady state level. Including a scarce, depletable natural resource such as oil puts even more drag on growth. However, in both cases, the Cobb-Douglas production function and technological growth allows for long-run growth."
   ]
  }
 ],
 "metadata": {
  "kernelspec": {
   "display_name": "base",
   "language": "python",
   "name": "python3"
  },
  "language_info": {
   "codemirror_mode": {
    "name": "ipython",
    "version": 3
   },
   "file_extension": ".py",
   "mimetype": "text/x-python",
   "name": "python",
   "nbconvert_exporter": "python",
   "pygments_lexer": "ipython3",
   "version": "3.10.10"
  },
  "toc-autonumbering": true,
  "vscode": {
   "interpreter": {
    "hash": "47ef90cdf3004d3f859f1fb202523c65c07ba7c22eefd261b181f4744e2d0403"
   }
  }
 },
 "nbformat": 4,
 "nbformat_minor": 4
}
